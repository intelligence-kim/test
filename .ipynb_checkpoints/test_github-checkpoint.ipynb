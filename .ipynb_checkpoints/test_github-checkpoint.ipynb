{
 "cells": [
  {
   "cell_type": "code",
   "execution_count": 1,
   "id": "38514f50-22a2-41fd-9954-ba64fe74468f",
   "metadata": {},
   "outputs": [
    {
     "name": "stdout",
     "output_type": "stream",
     "text": [
      "test github\n"
     ]
    }
   ],
   "source": [
    "print(\"test github\")"
   ]
  },
  {
   "cell_type": "code",
   "execution_count": 3,
   "id": "09c81cd9-f213-499f-9162-5d5f329277dc",
   "metadata": {},
   "outputs": [
    {
     "name": "stdout",
     "output_type": "stream",
     "text": [
      "test_branch\n"
     ]
    }
   ],
   "source": [
    "print(\"test_branch\")"
   ]
  },
  {
   "cell_type": "code",
   "execution_count": null,
   "id": "faf2f5d8-a332-4ad9-8037-1be9c514a88b",
   "metadata": {},
   "outputs": [],
   "source": []
  }
 ],
 "metadata": {
  "kernelspec": {
   "display_name": "Python 3 (ipykernel)",
   "language": "python",
   "name": "python3"
  },
  "language_info": {
   "codemirror_mode": {
    "name": "ipython",
    "version": 3
   },
   "file_extension": ".py",
   "mimetype": "text/x-python",
   "name": "python",
   "nbconvert_exporter": "python",
   "pygments_lexer": "ipython3",
   "version": "3.11.7"
  }
 },
 "nbformat": 4,
 "nbformat_minor": 5
}
